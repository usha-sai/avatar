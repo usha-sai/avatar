{
 "cells": [
  {
   "cell_type": "code",
   "execution_count": 1,
   "metadata": {
    "ExecuteTime": {
     "end_time": "2017-06-17T16:07:09.030050+08:00",
     "start_time": "2017-06-17T16:07:09.010456"
    }
   },
   "outputs": [],
   "source": [
    "%load_ext autoreload\n",
    "%autoreload 2"
   ]
  },
  {
   "cell_type": "code",
   "execution_count": 2,
   "metadata": {
    "ExecuteTime": {
     "end_time": "2017-06-17T16:07:09.668884+08:00",
     "start_time": "2017-06-17T16:07:09.299833"
    }
   },
   "outputs": [],
   "source": [
    "from tqdm import tqdm\n",
    "from path import Path\n",
    "import json\n",
    "import time\n",
    "from pprint import pprint\n",
    "import re\n",
    "\n",
    "import numpy as np\n",
    "import pandas as pd\n",
    "%matplotlib inline\n",
    "%precision 6\n",
    "\n",
    "\n",
    "from collections import OrderedDict\n",
    "import logging\n",
    "import tempfile\n",
    "import os\n",
    "\n",
    "basedir=Path(r'../../scripts/').abspath()"
   ]
  },
  {
   "cell_type": "markdown",
   "metadata": {},
   "source": [
    "# import makehuman-cmd\n",
    "\n",
    "https://bitbucket.org/duststorm01/makehuman-commandline"
   ]
  },
  {
   "cell_type": "code",
   "execution_count": 3,
   "metadata": {
    "ExecuteTime": {
     "end_time": "2017-06-17T16:07:12.286167+08:00",
     "start_time": "2017-06-17T16:07:10.346606"
    }
   },
   "outputs": [
    {
     "name": "stderr",
     "output_type": "stream",
     "text": [
      "Initialized logging\n"
     ]
    }
   ],
   "source": [
    "# from .mh_helpers import clean, short_hash, clean_modifier\n",
    "\n",
    "mhpath = Path(os.path.abspath(\"../vendor/makehuman-commandline/makehuman\"))\n",
    "\n",
    "#===============================================================================\n",
    "# Import Makehuman resources, needs to be with makehuman dir as current dir\n",
    "#===============================================================================\n",
    "\n",
    "appcwd = os.path.abspath(os.curdir)\n",
    "sys.path.append(mhpath)\n",
    "sys.path.append(appcwd)\n",
    "sys.path.append('.')\n",
    "\n",
    "def getHuman():\n",
    "    \"\"\"Load a human model with modifiers.\"\"\"\n",
    "    with mhpath:\n",
    "        # maxFaces *uint* Number of faces per vertex (pole), None for default (min 4)\n",
    "        human = Human(files3d.loadMesh(\n",
    "            getpath.getSysDataPath(\"3dobjs/base.obj\"),\n",
    "            maxFaces=5))\n",
    "        # load modifiers onto human\n",
    "        humanmodifier.mods_loaded = False\n",
    "        modifiers = humanmodifier.loadModifiers(\n",
    "            getpath.getSysDataPath('modifiers/modeling_modifiers.json'), human)\n",
    "        return human\n",
    "\n",
    "with mhpath:\n",
    "    import makehuman\n",
    "    oldpath = os.sys.path\n",
    "    makehuman.set_sys_path()\n",
    "    # make makehuman paths absolute by going through newest paths and making abs\n",
    "    for i in range(len(os.sys.path)):\n",
    "        p = os.sys.path[i]\n",
    "        if p[0:2] == './':\n",
    "            os.sys.path[i] = os.path.join(\n",
    "                os.path.abspath('.'), p.replace('./', ''))\n",
    "        else:\n",
    "            break\n",
    "\n",
    "    makehuman.init_logging()\n",
    "    logging.getLogger().setLevel(logging.CRITICAL)\n",
    "    #import image_pil as image_lib\n",
    "    #\n",
    "    import proxy as mhproxy\n",
    "    import humanargparser\n",
    "    import targets as mhtargets\n",
    "    from human import Human\n",
    "    import files3d\n",
    "    import getpath\n",
    "    import humanmodifier\n",
    "    from core import G\n",
    "    import headless\n",
    "    import autoskinblender\n",
    "    import export\n",
    "    \n",
    "    # Init console app\n",
    "    with mhpath:\n",
    "        G.app = headless.ConsoleApp()\n",
    "    G.app.selectedHuman = human = getHuman()\n",
    "    headless.OBJExporter = None\n",
    "    headless.MHXExporter = None\n",
    "    headless.MhxConfig = None\n",
    "    humanargparser.mods_loaded = False\n",
    "    \n",
    "    from makehuman import LicenseInfo\n",
    "    mh_licence=LicenseInfo()\n",
    "\n",
    "def assignModifierValues(human, valuesDict):\n",
    "    _tmp = human.symmetryModeEnabled\n",
    "    human.symmetryModeEnabled = False\n",
    "    for mName, val in valuesDict.items():\n",
    "        try:\n",
    "            human.getModifier(mName).setValue(val)\n",
    "        except:\n",
    "            pass\n",
    "    human.updateMacroModifiers()\n",
    "    human.applyAllTargets()\n",
    "    human.symmetryModeEnabled = _tmp\n",
    "    return human\n",
    "\n"
   ]
  },
  {
   "cell_type": "code",
   "execution_count": 4,
   "metadata": {
    "ExecuteTime": {
     "end_time": "2017-06-17T16:07:12.427801+08:00",
     "start_time": "2017-06-17T16:07:12.394787"
    }
   },
   "outputs": [],
   "source": [
    "os.sys.path.append(basedir)\n",
    "from convert_obj_three import convert_ascii\n",
    "from export_makehuman import material_to_mtl, vertex_weights_to_skin_weights, parse_skeleton_bones, NP_MH_Encoder"
   ]
  },
  {
   "cell_type": "markdown",
   "metadata": {},
   "source": [
    "# comparison of rigs\n",
    "\n",
    "      rigfile                            amount_over  maxvi  mean_over  nb_bones  number_over  \n",
    "               data/rigs/cmu_mb.mhskel          6700      8   4.376225        31         1531   \n",
    "          data/rigs/game_engine.mhskel          3947      7   4.023445        53          981  \n",
    "      data/rigs/default_no_toes.mhskel         20036      8   5.107316       137         3923  \n",
    "              data/rigs/default.mhskel         20412      8   5.086469       163         4013   \n",
    "     \n",
    "    "
   ]
  },
  {
   "cell_type": "code",
   "execution_count": null,
   "metadata": {
    "ExecuteTime": {
     "end_time": "2016-11-25T11:11:58.998763",
     "start_time": "2016-11-25T11:11:58.978981"
    }
   },
   "outputs": [],
   "source": []
  },
  {
   "cell_type": "code",
   "execution_count": 5,
   "metadata": {
    "ExecuteTime": {
     "end_time": "2017-06-17T16:07:13.436902+08:00",
     "start_time": "2017-06-17T16:07:13.426417"
    }
   },
   "outputs": [],
   "source": [
    "# choose rig\n",
    "rigfile = 'data/rigs/default.mhskel'\n",
    "# rigfile = 'data/rigs/game_engine.mhskel'"
   ]
  },
  {
   "cell_type": "code",
   "execution_count": 6,
   "metadata": {
    "ExecuteTime": {
     "end_time": "2017-06-17T16:07:13.758510+08:00",
     "start_time": "2017-06-17T16:07:13.746529"
    }
   },
   "outputs": [
    {
     "name": "stdout",
     "output_type": "stream",
     "text": [
      "/tmp/tmp6MBZ7zExport_base_human_to_threejs_json\n"
     ]
    }
   ],
   "source": [
    "outdir = Path(tempfile.mkdtemp(suffix='Export_base_human_to_threejs_json'))\n",
    "print outdir"
   ]
  },
  {
   "cell_type": "code",
   "execution_count": 7,
   "metadata": {
    "ExecuteTime": {
     "end_time": "2017-06-17T16:07:16.352208+08:00",
     "start_time": "2017-06-17T16:07:14.003636"
    }
   },
   "outputs": [],
   "source": [
    "# make base human model with helpers enabled\n",
    "with mhpath: \n",
    "    basehuman = getHuman()\n",
    "    \n",
    "    # rig\n",
    "    if rigfile:\n",
    "        humanargparser.addRig(basehuman,rigfile)    \n",
    "    \n",
    "    mesh = basehuman.meshData\n",
    "    group_mask = np.ones(len(mesh._faceGroups), dtype=bool)\n",
    "    face_mask = group_mask[mesh.group]\n",
    "    basehuman._staticFaceMask = face_mask\n",
    "    basehuman.meshData.changeFaceMask(basehuman.staticFaceMask)\n",
    "    basehuman.meshData.updateIndexBufferFaces()\n",
    "    basehuman.changeVertexMask(None)"
   ]
  },
  {
   "cell_type": "markdown",
   "metadata": {},
   "source": [
    "For the next cell I had to modify `scripts/vendor/makehuman-commandline/makehuman/lib/image_pil.py` to change tostring into tobytes. If you get an error with \"tostring\" in it, you may need to as well. (FIXME)"
   ]
  },
  {
   "cell_type": "code",
   "execution_count": 12,
   "metadata": {
    "ExecuteTime": {
     "end_time": "2017-06-17T16:08:38.034918+08:00",
     "start_time": "2017-06-17T16:08:35.777429"
    },
    "scrolled": true
   },
   "outputs": [
    {
     "name": "stdout",
     "output_type": "stream",
     "text": [
      "19158 vertices, 18486 faces, 139 materials, 0 morph targets, 0 bones, 0 skinWeights\n"
     ]
    },
    {
     "data": {
      "text/plain": [
       "Path(u'/tmp/tmp6MBZ7zExport_base_human_to_threejs_json/models/human_full_size.json')"
      ]
     },
     "execution_count": 12,
     "metadata": {},
     "output_type": "execute_result"
    }
   ],
   "source": [
    "# export\n",
    "infile = mhpath + '/data/3dobjs/base.obj'\n",
    "outfile = outdir.joinpath('models','human_full_size.json')\n",
    "influencesPerVertex=4\n",
    "\n",
    "mtllib = material_to_mtl(basehuman.material, texdir=os.path.dirname(outfile))\n",
    "convert_ascii(\n",
    "    infile=infile,\n",
    "    morphfiles='',\n",
    "    colorfiles='',\n",
    "    outfile=outfile,\n",
    "    licence=json.dumps(mh_licence.asDict()),\n",
    "#     mtllib=mtllib\n",
    ")\n",
    "\n",
    "# some extra data to add to the file\n",
    "skeleton = basehuman.getSkeleton()\n",
    "bones = parse_skeleton_bones(skeleton)\n",
    "skeletonMetadata = {\n",
    "    \"name\": skeleton.name,\n",
    "    \"version\": skeleton.version,\n",
    "    \"description\": skeleton.description,\n",
    "    \"license\": skeleton.license.asDict(),\n",
    "}\n",
    "vertex_weights = basehuman.mesh.getVertexWeights(skeleton.getVertexWeights(force_remap=True))\n",
    "skinIndices, skinWeights = vertex_weights_to_skin_weights(\n",
    "    vertex_weights, skeleton, influencesPerVertex=influencesPerVertex)\n",
    "\n",
    "licence = json.dumps(mh_licence.asDict())\n",
    "\n",
    "# now add extra data to file\n",
    "metadata = {\n",
    "    \"skeletonMetadata\": skeletonMetadata,\n",
    "    \"joint_pos_idxs\": skeleton.joint_pos_idxs\n",
    "}\n",
    "data = json.load(open(outfile))\n",
    "data['metadata'].update(metadata)\n",
    "data['skinIndices'] = skinIndices\n",
    "data['skinWeights'] = skinWeights\n",
    "data['bones'] = bones\n",
    "data['influencesPerVertex']=influencesPerVertex\n",
    "\n",
    "json.dump(data, open(outfile, 'w'), cls=NP_MH_Encoder, separators=(',', ':'))\n",
    "outfile"
   ]
  },
  {
   "cell_type": "code",
   "execution_count": null,
   "metadata": {
    "ExecuteTime": {
     "end_time": "2017-06-17T16:04:20.401051+08:00",
     "start_time": "2017-06-17T16:03:11.491787"
    }
   },
   "outputs": [],
   "source": []
  },
  {
   "cell_type": "code",
   "execution_count": 13,
   "metadata": {
    "ExecuteTime": {
     "end_time": "2017-06-17T16:08:43.145929+08:00",
     "start_time": "2017-06-17T16:08:43.135011"
    }
   },
   "outputs": [
    {
     "data": {
      "text/plain": [
       "Path(u'/tmp/tmp6MBZ7zExport_base_human_to_threejs_json/models/human_full_size.json')"
      ]
     },
     "execution_count": 13,
     "metadata": {},
     "output_type": "execute_result"
    }
   ],
   "source": [
    "outfile"
   ]
  },
  {
   "cell_type": "markdown",
   "metadata": {
    "collapsed": true
   },
   "source": [
    "## Export skins"
   ]
  },
  {
   "cell_type": "code",
   "execution_count": 14,
   "metadata": {
    "ExecuteTime": {
     "end_time": "2017-06-17T16:08:44.833697+08:00",
     "start_time": "2017-06-17T16:08:44.822879"
    }
   },
   "outputs": [],
   "source": [
    "os.sys.path.append(basedir)\n",
    "from convert_obj_three import generate_materials_string, create_materials, generate_materials\n",
    "from export_makehuman import material_to_mtl, copyAndCompress"
   ]
  },
  {
   "cell_type": "code",
   "execution_count": 15,
   "metadata": {
    "ExecuteTime": {
     "end_time": "2017-06-17T16:08:45.595851+08:00",
     "start_time": "2017-06-17T16:08:45.582943"
    }
   },
   "outputs": [],
   "source": [
    "# import proxies\n",
    "def _listDataFiles(foldername,\n",
    "                   extensions,\n",
    "                   onlySysData=False,\n",
    "                   recursive=True):\n",
    "    with mhpath:  # sadly makehuman seems hardcoded\n",
    "        if onlySysData:\n",
    "            paths = [getpath.getSysDataPath(foldername)]\n",
    "        else:\n",
    "            paths = [getpath.getDataPath(foldername),\n",
    "                     getpath.getSysDataPath(foldername)]\n",
    "    return list(getpath.search(paths, extensions, recursive))"
   ]
  },
  {
   "cell_type": "code",
   "execution_count": 16,
   "metadata": {
    "ExecuteTime": {
     "end_time": "2017-06-17T16:08:46.478695+08:00",
     "start_time": "2017-06-17T16:08:46.462855"
    }
   },
   "outputs": [
    {
     "data": {
      "text/plain": [
       "[u'data/skins/default.mhmat',\n",
       " u'data/skins/middleage_african_female/middleage_african_female.mhmat',\n",
       " u'data/skins/middleage_african_male/middleage_african_male.mhmat',\n",
       " u'data/skins/middleage_asian_female/middleage_asian_female.mhmat',\n",
       " u'data/skins/middleage_asian_male/middleage_asian_male.mhmat',\n",
       " u'data/skins/middleage_caucasian_female/middleage_caucasian_female.mhmat',\n",
       " u'data/skins/middleage_caucasian_male/middleage_caucasian_male.mhmat',\n",
       " u'data/skins/old_african_female/old_african_female.mhmat',\n",
       " u'data/skins/old_african_male/old_african_male.mhmat',\n",
       " u'data/skins/old_asian_female/old_asian_female.mhmat',\n",
       " u'data/skins/old_asian_male/old_asian_male.mhmat',\n",
       " u'data/skins/old_caucasian_female/old_caucasian_female.mhmat',\n",
       " u'data/skins/old_caucasian_male/old_caucasian_male.mhmat',\n",
       " u'data/skins/toon01/toon01.mhmat',\n",
       " u'data/skins/young_african_female/young_african_female.mhmat',\n",
       " u'data/skins/young_african_male/young_african_male.mhmat',\n",
       " u'data/skins/young_asian_female/young_asian_female.mhmat',\n",
       " u'data/skins/young_asian_male/young_asian_male.mhmat',\n",
       " u'data/skins/young_caucasian_female/young_caucasian_female.mhmat',\n",
       " u'data/skins/young_caucasian_female/young_caucasian_female2.mhmat',\n",
       " u'data/skins/young_caucasian_female/young_caucasian_female_special_suit.mhmat',\n",
       " u'data/skins/young_caucasian_male/young_caucasian_male.mhmat',\n",
       " u'data/skins/young_caucasian_male/young_caucasian_male2.mhmat',\n",
       " u'data/skins/young_caucasian_male/young_caucasian_male_special_suit.mhmat']"
      ]
     },
     "execution_count": 16,
     "metadata": {},
     "output_type": "execute_result"
    }
   ],
   "source": [
    "skins = _listDataFiles('skins','mhmat')\n",
    "skins"
   ]
  },
  {
   "cell_type": "code",
   "execution_count": 17,
   "metadata": {
    "ExecuteTime": {
     "end_time": "2017-06-17T16:08:59.108192+08:00",
     "start_time": "2017-06-17T16:08:46.983805"
    },
    "scrolled": true
   },
   "outputs": [
    {
     "name": "stdout",
     "output_type": "stream",
     "text": [
      "data/skins/default.mhmat\n",
      "data/skins/middleage_african_female/middleage_african_female.mhmat\n",
      "data/skins/middleage_african_male/middleage_african_male.mhmat\n",
      "data/skins/middleage_asian_female/middleage_asian_female.mhmat\n",
      "data/skins/middleage_asian_male/middleage_asian_male.mhmat\n",
      "data/skins/middleage_caucasian_female/middleage_caucasian_female.mhmat\n",
      "data/skins/middleage_caucasian_male/middleage_caucasian_male.mhmat\n",
      "data/skins/old_african_female/old_african_female.mhmat\n",
      "data/skins/old_african_male/old_african_male.mhmat\n",
      "data/skins/old_asian_female/old_asian_female.mhmat\n",
      "data/skins/old_asian_male/old_asian_male.mhmat\n",
      "data/skins/old_caucasian_female/old_caucasian_female.mhmat\n",
      "data/skins/old_caucasian_male/old_caucasian_male.mhmat\n",
      "data/skins/toon01/toon01.mhmat\n",
      "data/skins/young_african_female/young_african_female.mhmat\n",
      "data/skins/young_african_male/young_african_male.mhmat\n",
      "data/skins/young_asian_female/young_asian_female.mhmat\n",
      "data/skins/young_asian_male/young_asian_male.mhmat\n",
      "data/skins/young_caucasian_female/young_caucasian_female.mhmat\n",
      "data/skins/young_caucasian_female/young_caucasian_female2.mhmat\n",
      "data/skins/young_caucasian_female/young_caucasian_female_special_suit.mhmat\n",
      "data/skins/young_caucasian_male/young_caucasian_male.mhmat\n",
      "data/skins/young_caucasian_male/young_caucasian_male2.mhmat\n",
      "data/skins/young_caucasian_male/young_caucasian_male_special_suit.mhmat\n"
     ]
    }
   ],
   "source": [
    "skins = _listDataFiles('skins','mhmat')\n",
    "import material\n",
    "for skin in skins:\n",
    "    print(skin)\n",
    "    mat = material.fromFile(skin)\n",
    "    mhmat_file = Path(skin.replace('data/skins/',''))\n",
    "    outsubdir = outdir.joinpath('skins',mhmat_file.dirname())\n",
    "    outsubdir.makedirs_p()\n",
    "    outfile = outsubdir.joinpath(mhmat_file.basename()).replace('.mhmat','.json')\n",
    "\n",
    "    mtllib = material_to_mtl(mat, texdir=os.path.dirname(outfile))\n",
    "    mtl = create_materials({mat.name:0}, mtllib, '')\n",
    "    data = mtl[mtl.keys()[0]]\n",
    "    json.dump(data,open(outfile,'w'))\n",
    "    \n",
    "    # and the thumbnail\n",
    "    thumbnail = Path(mat.filename.replace('.mhmat','.thumb'))\n",
    "    if thumbnail.isfile():\n",
    "        copyAndCompress(thumbnail,outfile.replace('.json','.thumb.png'))"
   ]
  },
  {
   "cell_type": "code",
   "execution_count": 18,
   "metadata": {
    "ExecuteTime": {
     "end_time": "2017-06-17T16:08:59.574215+08:00",
     "start_time": "2017-06-17T16:08:59.109378"
    }
   },
   "outputs": [
    {
     "name": "stdout",
     "output_type": "stream",
     "text": [
      "{u'young_caucasian_male_detailed': {'opacity': 1.0, 'specularCoef': 0.5, 'colorEmissive': [0.1961, 0.102, 0.102], 'wireframe': 0, 'colorDiffuse': [1.0, 1.0, 1.0], 'mapDiffuse': 'textures/young_caucasian_male_special_suit.png', 'colorSpecular': [0.02745, 0.02745, 0.02745], 'shading': 'phong', 'transparent': True}}\n"
     ]
    }
   ],
   "source": [
    "# test makehuman2mtl material_to_mtl=>create_materials\n",
    "mat = material.fromFile(skin)\n",
    "mtllib = material_to_mtl(mat, texdir=os.path.dirname(outfile))\n",
    "mtl = create_materials({mat.name:0}, mtllib, '')\n",
    "print(mtl)\n",
    "keys = [\n",
    "   \n",
    "    'colorDiffuse',\n",
    "    'colorSpecular',\n",
    "    'colorEmissive',\n",
    "    'opacity',\n",
    "    'wireframe',\n",
    "    'specularCoef',\n",
    "    \n",
    "    'mapDiffuse',\n",
    "    \n",
    "    'shading',\n",
    "    'transparent'\n",
    "]\n",
    "for k in keys:\n",
    "    assert k in mtl[mat.name], k"
   ]
  },
  {
   "cell_type": "code",
   "execution_count": null,
   "metadata": {
    "collapsed": true
   },
   "outputs": [],
   "source": []
  }
 ],
 "metadata": {
  "kernelspec": {
   "display_name": "Python 2",
   "language": "python",
   "name": "python2"
  },
  "language_info": {
   "codemirror_mode": {
    "name": "ipython",
    "version": 2
   },
   "file_extension": ".py",
   "mimetype": "text/x-python",
   "name": "python",
   "nbconvert_exporter": "python",
   "pygments_lexer": "ipython2",
   "version": "2.7.9"
  },
  "toc": {
   "toc_cell": false,
   "toc_number_sections": true,
   "toc_threshold": 6,
   "toc_window_display": false
  }
 },
 "nbformat": 4,
 "nbformat_minor": 1
}
